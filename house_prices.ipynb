{
 "cells": [
  {
   "cell_type": "markdown",
   "id": "11d31dc3-ac2b-4845-87be-8c12c3036357",
   "metadata": {},
   "source": [
    "## House Prices in Lagos"
   ]
  },
  {
   "cell_type": "code",
   "execution_count": 1,
   "id": "04ddb7c2-eec3-4098-9bbd-13617268e234",
   "metadata": {},
   "outputs": [],
   "source": [
    "import numpy as np\n",
    "import pandas as pd\n",
    "import re\n",
    "import os\n",
    "\n",
    "import matplotlib.pyplot as plt\n",
    "plt.style.use('fivethirtyeight')\n",
    "import seaborn as sns\n",
    "\n",
    "from typing import List"
   ]
  },
  {
   "cell_type": "markdown",
   "id": "2fb733d8-6cdf-4c97-acc0-49dffd63184d",
   "metadata": {},
   "source": [
    "#### Load and merge all the data\n",
    "* The data was collected in batches."
   ]
  },
  {
   "cell_type": "code",
   "execution_count": 2,
   "id": "4226e202-027d-4d1f-9467-fd477c7d7e9a",
   "metadata": {},
   "outputs": [
    {
     "data": {
      "text/html": [
       "<div>\n",
       "<style scoped>\n",
       "    .dataframe tbody tr th:only-of-type {\n",
       "        vertical-align: middle;\n",
       "    }\n",
       "\n",
       "    .dataframe tbody tr th {\n",
       "        vertical-align: top;\n",
       "    }\n",
       "\n",
       "    .dataframe thead th {\n",
       "        text-align: right;\n",
       "    }\n",
       "</style>\n",
       "<table border=\"1\" class=\"dataframe\">\n",
       "  <thead>\n",
       "    <tr style=\"text-align: right;\">\n",
       "      <th></th>\n",
       "      <th>title</th>\n",
       "      <th>address</th>\n",
       "      <th>bed</th>\n",
       "      <th>bath</th>\n",
       "      <th>toilet</th>\n",
       "      <th>pkn_space</th>\n",
       "      <th>price</th>\n",
       "    </tr>\n",
       "  </thead>\n",
       "  <tbody>\n",
       "    <tr>\n",
       "      <th>0</th>\n",
       "      <td>4 bedroom detached duplex for sale</td>\n",
       "      <td>Megamound Estate, Lekki County Homes., Ikota, ...</td>\n",
       "      <td>4Bedrooms</td>\n",
       "      <td>5Bathrooms</td>\n",
       "      <td>5Toilets</td>\n",
       "      <td>Save</td>\n",
       "      <td>75,000,000</td>\n",
       "    </tr>\n",
       "    <tr>\n",
       "      <th>1</th>\n",
       "      <td>4 bedroom semi-detached duplex for sale</td>\n",
       "      <td>In A Well Secured Estate, Ajah, Lagos</td>\n",
       "      <td>4Bedrooms</td>\n",
       "      <td>4Bathrooms</td>\n",
       "      <td>5Toilets</td>\n",
       "      <td>2Parking Spaces</td>\n",
       "      <td>47,000,000</td>\n",
       "    </tr>\n",
       "    <tr>\n",
       "      <th>2</th>\n",
       "      <td>5 bedroom semi-detached duplex for sale</td>\n",
       "      <td>In A Well Secured Estate, Ajah, Lagos</td>\n",
       "      <td>5Bedrooms</td>\n",
       "      <td>4Bathrooms</td>\n",
       "      <td>6Toilets</td>\n",
       "      <td>4Parking Spaces</td>\n",
       "      <td>80,000,000</td>\n",
       "    </tr>\n",
       "    <tr>\n",
       "      <th>3</th>\n",
       "      <td>3 bedroom detached duplex for sale</td>\n",
       "      <td>Ikola Road, By Command., Alagbado, Ifako-Ijaiy...</td>\n",
       "      <td>3Bedrooms</td>\n",
       "      <td>Save</td>\n",
       "      <td>NaN</td>\n",
       "      <td>NaN</td>\n",
       "      <td>27,500,000</td>\n",
       "    </tr>\n",
       "    <tr>\n",
       "      <th>4</th>\n",
       "      <td>3 bedroom terraced duplex for sale</td>\n",
       "      <td>2nd Tollgate, Lekki, Lagos</td>\n",
       "      <td>3Bedrooms</td>\n",
       "      <td>3Bathrooms</td>\n",
       "      <td>4Toilets</td>\n",
       "      <td>Save</td>\n",
       "      <td>45,000,000</td>\n",
       "    </tr>\n",
       "  </tbody>\n",
       "</table>\n",
       "</div>"
      ],
      "text/plain": [
       "                                     title  \\\n",
       "0       4 bedroom detached duplex for sale   \n",
       "1  4 bedroom semi-detached duplex for sale   \n",
       "2  5 bedroom semi-detached duplex for sale   \n",
       "3       3 bedroom detached duplex for sale   \n",
       "4       3 bedroom terraced duplex for sale   \n",
       "\n",
       "                                             address        bed        bath  \\\n",
       "0  Megamound Estate, Lekki County Homes., Ikota, ...  4Bedrooms  5Bathrooms   \n",
       "1              In A Well Secured Estate, Ajah, Lagos  4Bedrooms  4Bathrooms   \n",
       "2              In A Well Secured Estate, Ajah, Lagos  5Bedrooms  4Bathrooms   \n",
       "3  Ikola Road, By Command., Alagbado, Ifako-Ijaiy...  3Bedrooms        Save   \n",
       "4                         2nd Tollgate, Lekki, Lagos  3Bedrooms  3Bathrooms   \n",
       "\n",
       "     toilet        pkn_space       price  \n",
       "0  5Toilets             Save  75,000,000  \n",
       "1  5Toilets  2Parking Spaces  47,000,000  \n",
       "2  6Toilets  4Parking Spaces  80,000,000  \n",
       "3       NaN              NaN  27,500,000  \n",
       "4  4Toilets             Save  45,000,000  "
      ]
     },
     "execution_count": 2,
     "metadata": {},
     "output_type": "execute_result"
    }
   ],
   "source": [
    "data0 = pd.read_csv('data/house_data0.csv')\n",
    "data0.head()"
   ]
  },
  {
   "cell_type": "code",
   "execution_count": 3,
   "id": "af24204f-ac48-4577-a576-2cb9d514cdfe",
   "metadata": {},
   "outputs": [
    {
     "data": {
      "text/plain": [
       "(1050, 7)"
      ]
     },
     "execution_count": 3,
     "metadata": {},
     "output_type": "execute_result"
    }
   ],
   "source": [
    "data0.shape"
   ]
  },
  {
   "cell_type": "code",
   "execution_count": 4,
   "id": "b653e01c-eb81-44ee-9cf9-72c78f71226b",
   "metadata": {},
   "outputs": [
    {
     "data": {
      "text/plain": [
       "['house_data0.csv',\n",
       " 'house_data1.csv',\n",
       " 'house_data2.csv',\n",
       " 'house_data3.csv',\n",
       " 'house_data4.csv']"
      ]
     },
     "execution_count": 4,
     "metadata": {},
     "output_type": "execute_result"
    }
   ],
   "source": [
    "# load the csv files in the 'data' directory and save it in a list\n",
    "files = [file for file in os.listdir('data/')]\n",
    "\n",
    "files"
   ]
  },
  {
   "cell_type": "code",
   "execution_count": 5,
   "id": "484d5748-7ef7-4b18-a55a-7113012a9855",
   "metadata": {},
   "outputs": [
    {
     "name": "stdout",
     "output_type": "stream",
     "text": [
      "Before concatenatiion: (0, 0) \n",
      "\n",
      "After concatenatiion: (10700, 7) \n",
      "\n"
     ]
    }
   ],
   "source": [
    "all_df = pd.DataFrame()  # empty dataframe\n",
    "\n",
    "print(f\"Before concatenatiion: {all_df.shape} \\n\")\n",
    "\n",
    "for file in files:\n",
    "    df = pd.read_csv(f'data/{file}')   # read each file \n",
    "    all_df = pd.concat([all_df, df], axis='index')  # concatenate each file \n",
    "    \n",
    "print(f\"After concatenatiion: {all_df.shape} \\n\")"
   ]
  },
  {
   "cell_type": "code",
   "execution_count": 6,
   "id": "c43ba0ac-3c8c-410e-9435-aeb414f8d448",
   "metadata": {},
   "outputs": [
    {
     "data": {
      "text/html": [
       "<div>\n",
       "<style scoped>\n",
       "    .dataframe tbody tr th:only-of-type {\n",
       "        vertical-align: middle;\n",
       "    }\n",
       "\n",
       "    .dataframe tbody tr th {\n",
       "        vertical-align: top;\n",
       "    }\n",
       "\n",
       "    .dataframe thead th {\n",
       "        text-align: right;\n",
       "    }\n",
       "</style>\n",
       "<table border=\"1\" class=\"dataframe\">\n",
       "  <thead>\n",
       "    <tr style=\"text-align: right;\">\n",
       "      <th></th>\n",
       "      <th>title</th>\n",
       "      <th>address</th>\n",
       "      <th>bed</th>\n",
       "      <th>bath</th>\n",
       "      <th>toilet</th>\n",
       "      <th>pkn_space</th>\n",
       "      <th>price</th>\n",
       "    </tr>\n",
       "  </thead>\n",
       "  <tbody>\n",
       "    <tr>\n",
       "      <th>0</th>\n",
       "      <td>4 bedroom detached duplex for sale</td>\n",
       "      <td>Megamound Estate, Lekki County Homes., Ikota, ...</td>\n",
       "      <td>4Bedrooms</td>\n",
       "      <td>5Bathrooms</td>\n",
       "      <td>5Toilets</td>\n",
       "      <td>Save</td>\n",
       "      <td>75,000,000</td>\n",
       "    </tr>\n",
       "    <tr>\n",
       "      <th>1</th>\n",
       "      <td>4 bedroom semi-detached duplex for sale</td>\n",
       "      <td>In A Well Secured Estate, Ajah, Lagos</td>\n",
       "      <td>4Bedrooms</td>\n",
       "      <td>4Bathrooms</td>\n",
       "      <td>5Toilets</td>\n",
       "      <td>2Parking Spaces</td>\n",
       "      <td>47,000,000</td>\n",
       "    </tr>\n",
       "    <tr>\n",
       "      <th>2</th>\n",
       "      <td>5 bedroom semi-detached duplex for sale</td>\n",
       "      <td>In A Well Secured Estate, Ajah, Lagos</td>\n",
       "      <td>5Bedrooms</td>\n",
       "      <td>4Bathrooms</td>\n",
       "      <td>6Toilets</td>\n",
       "      <td>4Parking Spaces</td>\n",
       "      <td>80,000,000</td>\n",
       "    </tr>\n",
       "    <tr>\n",
       "      <th>3</th>\n",
       "      <td>3 bedroom detached duplex for sale</td>\n",
       "      <td>Ikola Road, By Command., Alagbado, Ifako-Ijaiy...</td>\n",
       "      <td>3Bedrooms</td>\n",
       "      <td>Save</td>\n",
       "      <td>NaN</td>\n",
       "      <td>NaN</td>\n",
       "      <td>27,500,000</td>\n",
       "    </tr>\n",
       "    <tr>\n",
       "      <th>4</th>\n",
       "      <td>3 bedroom terraced duplex for sale</td>\n",
       "      <td>2nd Tollgate, Lekki, Lagos</td>\n",
       "      <td>3Bedrooms</td>\n",
       "      <td>3Bathrooms</td>\n",
       "      <td>4Toilets</td>\n",
       "      <td>Save</td>\n",
       "      <td>45,000,000</td>\n",
       "    </tr>\n",
       "  </tbody>\n",
       "</table>\n",
       "</div>"
      ],
      "text/plain": [
       "                                     title  \\\n",
       "0       4 bedroom detached duplex for sale   \n",
       "1  4 bedroom semi-detached duplex for sale   \n",
       "2  5 bedroom semi-detached duplex for sale   \n",
       "3       3 bedroom detached duplex for sale   \n",
       "4       3 bedroom terraced duplex for sale   \n",
       "\n",
       "                                             address        bed        bath  \\\n",
       "0  Megamound Estate, Lekki County Homes., Ikota, ...  4Bedrooms  5Bathrooms   \n",
       "1              In A Well Secured Estate, Ajah, Lagos  4Bedrooms  4Bathrooms   \n",
       "2              In A Well Secured Estate, Ajah, Lagos  5Bedrooms  4Bathrooms   \n",
       "3  Ikola Road, By Command., Alagbado, Ifako-Ijaiy...  3Bedrooms        Save   \n",
       "4                         2nd Tollgate, Lekki, Lagos  3Bedrooms  3Bathrooms   \n",
       "\n",
       "     toilet        pkn_space       price  \n",
       "0  5Toilets             Save  75,000,000  \n",
       "1  5Toilets  2Parking Spaces  47,000,000  \n",
       "2  6Toilets  4Parking Spaces  80,000,000  \n",
       "3       NaN              NaN  27,500,000  \n",
       "4  4Toilets             Save  45,000,000  "
      ]
     },
     "execution_count": 6,
     "metadata": {},
     "output_type": "execute_result"
    }
   ],
   "source": [
    "all_df.head()"
   ]
  },
  {
   "cell_type": "markdown",
   "id": "99d8abed-9889-4977-ac4e-785050d43856",
   "metadata": {},
   "source": [
    "### Clean the data.\n",
    "* reformat the `address` so that it contains only the city name.\n",
    "* clean the `bed`, `bath`, `toilet`, `pkn_space` and `price` columns."
   ]
  },
  {
   "cell_type": "code",
   "execution_count": 7,
   "id": "4461dd25-b9ea-46cb-a942-79861d4864cc",
   "metadata": {
    "tags": []
   },
   "outputs": [
    {
     "name": "stdout",
     "output_type": "stream",
     "text": [
      "<class 'pandas.core.frame.DataFrame'>\n",
      "Int64Index: 10700 entries, 0 to 3599\n",
      "Data columns (total 7 columns):\n",
      " #   Column     Non-Null Count  Dtype \n",
      "---  ------     --------------  ----- \n",
      " 0   title      10700 non-null  object\n",
      " 1   address    10700 non-null  object\n",
      " 2   bed        10635 non-null  object\n",
      " 3   bath       10700 non-null  object\n",
      " 4   toilet     9890 non-null   object\n",
      " 5   pkn_space  9670 non-null   object\n",
      " 6   price      10700 non-null  object\n",
      "dtypes: object(7)\n",
      "memory usage: 668.8+ KB\n"
     ]
    }
   ],
   "source": [
    "# adjust pandas display settings\n",
    "pd.set_option('max_colwidth', 100)\n",
    "\n",
    "all_df.info()"
   ]
  },
  {
   "cell_type": "markdown",
   "id": "96dd29ff-7c76-487a-9883-491cd762e239",
   "metadata": {},
   "source": [
    "* The data has some missing values."
   ]
  },
  {
   "cell_type": "raw",
   "id": "306c48d5-834f-4a18-9d77-f3882b767d31",
   "metadata": {},
   "source": [
    "## Helper Funcrions"
   ]
  },
  {
   "cell_type": "code",
   "execution_count": 8,
   "id": "f0847057-eb73-44e9-b113-1635b52f9bd9",
   "metadata": {
    "tags": []
   },
   "outputs": [],
   "source": [
    "def get_address(addr: str) -> str:\n",
    "    \"\"\" \n",
    "    ====================================================================\n",
    "        Extract the address.\n",
    "    \"\"\"\n",
    "    result = addr.split(',')[-2:-1]  # select the city\n",
    "    result = [x.strip() for x in result]  # remove the white spaces\n",
    "    result = ', '.join(result)  # join on spaces (no longer a list)\n",
    "    return result\n",
    "\n",
    "\n",
    "def clean_text(text: str) -> str:\n",
    "    \"\"\"\n",
    "    ====================================================================\n",
    "        Clean the text.\n",
    "    \"\"\"\n",
    "    pattern = r\"\\D+\"  # non-digits\n",
    "    result = re.sub(pattern, '', text, flags=re.I)\n",
    "    return result"
   ]
  },
  {
   "cell_type": "code",
   "execution_count": 9,
   "id": "1a8afd43-e312-43a4-850d-c07d5d820e40",
   "metadata": {},
   "outputs": [],
   "source": [
    "### drop the missing values\n",
    "all_df1 = all_df.copy()\n",
    "all_df1 = all_df1.dropna()"
   ]
  },
  {
   "cell_type": "code",
   "execution_count": 10,
   "id": "d2e0c686-9a04-4328-9558-61a83546009c",
   "metadata": {},
   "outputs": [
    {
     "data": {
      "text/html": [
       "<div>\n",
       "<style scoped>\n",
       "    .dataframe tbody tr th:only-of-type {\n",
       "        vertical-align: middle;\n",
       "    }\n",
       "\n",
       "    .dataframe tbody tr th {\n",
       "        vertical-align: top;\n",
       "    }\n",
       "\n",
       "    .dataframe thead th {\n",
       "        text-align: right;\n",
       "    }\n",
       "</style>\n",
       "<table border=\"1\" class=\"dataframe\">\n",
       "  <thead>\n",
       "    <tr style=\"text-align: right;\">\n",
       "      <th></th>\n",
       "      <th>title</th>\n",
       "      <th>address</th>\n",
       "      <th>bed</th>\n",
       "      <th>bath</th>\n",
       "      <th>toilet</th>\n",
       "      <th>pkn_space</th>\n",
       "      <th>price</th>\n",
       "    </tr>\n",
       "  </thead>\n",
       "  <tbody>\n",
       "    <tr>\n",
       "      <th>0</th>\n",
       "      <td>4 bedroom detached duplex for sale</td>\n",
       "      <td>Lekki</td>\n",
       "      <td>4</td>\n",
       "      <td>5</td>\n",
       "      <td>5</td>\n",
       "      <td>NaN</td>\n",
       "      <td>75000000</td>\n",
       "    </tr>\n",
       "    <tr>\n",
       "      <th>1</th>\n",
       "      <td>4 bedroom semi-detached duplex for sale</td>\n",
       "      <td>Ajah</td>\n",
       "      <td>4</td>\n",
       "      <td>4</td>\n",
       "      <td>5</td>\n",
       "      <td>2.0</td>\n",
       "      <td>47000000</td>\n",
       "    </tr>\n",
       "    <tr>\n",
       "      <th>2</th>\n",
       "      <td>5 bedroom semi-detached duplex for sale</td>\n",
       "      <td>Ajah</td>\n",
       "      <td>5</td>\n",
       "      <td>4</td>\n",
       "      <td>6</td>\n",
       "      <td>4.0</td>\n",
       "      <td>80000000</td>\n",
       "    </tr>\n",
       "    <tr>\n",
       "      <th>4</th>\n",
       "      <td>3 bedroom terraced duplex for sale</td>\n",
       "      <td>Lekki</td>\n",
       "      <td>3</td>\n",
       "      <td>3</td>\n",
       "      <td>4</td>\n",
       "      <td>NaN</td>\n",
       "      <td>45000000</td>\n",
       "    </tr>\n",
       "    <tr>\n",
       "      <th>5</th>\n",
       "      <td>5 bedroom detached duplex for sale</td>\n",
       "      <td>Lekki</td>\n",
       "      <td>5</td>\n",
       "      <td>5</td>\n",
       "      <td>6</td>\n",
       "      <td>NaN</td>\n",
       "      <td>165000000</td>\n",
       "    </tr>\n",
       "  </tbody>\n",
       "</table>\n",
       "</div>"
      ],
      "text/plain": [
       "                                     title address  bed  bath  toilet  \\\n",
       "0       4 bedroom detached duplex for sale   Lekki    4     5       5   \n",
       "1  4 bedroom semi-detached duplex for sale    Ajah    4     4       5   \n",
       "2  5 bedroom semi-detached duplex for sale    Ajah    5     4       6   \n",
       "4       3 bedroom terraced duplex for sale   Lekki    3     3       4   \n",
       "5       5 bedroom detached duplex for sale   Lekki    5     5       6   \n",
       "\n",
       "   pkn_space      price  \n",
       "0        NaN   75000000  \n",
       "1        2.0   47000000  \n",
       "2        4.0   80000000  \n",
       "4        NaN   45000000  \n",
       "5        NaN  165000000  "
      ]
     },
     "execution_count": 10,
     "metadata": {},
     "output_type": "execute_result"
    }
   ],
   "source": [
    "# clean the data\n",
    "for col in all_df1.columns:\n",
    "    if col == 'address':\n",
    "        all_df1[col] = all_df1[col].apply(get_address)\n",
    "    elif col != 'title':\n",
    "        all_df1[col] = all_df1[col].apply(clean_text)\n",
    "        \n",
    "# convert to numeric data type\n",
    "for col in ['bed', 'bath', 'toilet', 'pkn_space', 'price']:\n",
    "    all_df1[col] = pd.to_numeric(all_df1[col])\n",
    "\n",
    "\n",
    "all_df1.head()"
   ]
  },
  {
   "cell_type": "code",
   "execution_count": 11,
   "id": "97433d2d-1ae1-4445-9ceb-ab3404fe0581",
   "metadata": {},
   "outputs": [],
   "source": [
    "# filter out duplicated records\n",
    "all_df1 = all_df1[all_df1.duplicated(keep='first')]\n",
    "\n",
    "# save the data\n",
    "all_df1.to_csv('all_data.csv', index=False)"
   ]
  },
  {
   "cell_type": "markdown",
   "id": "cc2df1fc-e47c-4f37-90d1-070d619ee2e8",
   "metadata": {},
   "source": [
    "<br>\n",
    "\n",
    "#### Univariate Analysis"
   ]
  },
  {
   "cell_type": "code",
   "execution_count": 12,
   "id": "eb317f37-8ff3-473b-8bdd-543cdec208f1",
   "metadata": {},
   "outputs": [
    {
     "data": {
      "text/plain": [
       "title         0.000000\n",
       "address       0.000000\n",
       "bed           0.000000\n",
       "bath          0.000000\n",
       "toilet        0.000000\n",
       "pkn_space    30.112878\n",
       "price         0.000000\n",
       "dtype: float64"
      ]
     },
     "execution_count": 12,
     "metadata": {},
     "output_type": "execute_result"
    }
   ],
   "source": [
    "# calculate the percentage of missing values\n",
    "(all_df1.isna().sum() / len(all_df1)).mul(100)"
   ]
  },
  {
   "cell_type": "markdown",
   "id": "6238322e-dd11-4569-a92e-39e4924dfeef",
   "metadata": {},
   "source": [
    "* Drop `pkn_space` since it has relatively large percentage of missing values.\n",
    "* Secondly, I don't think many Lagosians consider the parking space of a house before purchasing the house since every decent house should have at least a parking space for 2 cars."
   ]
  },
  {
   "cell_type": "code",
   "execution_count": 13,
   "id": "2c1d59fe-95dd-4d68-a34e-18fd164b2105",
   "metadata": {},
   "outputs": [],
   "source": [
    "# drop 'pkn_space'\n",
    "# all_df1 = all_df1.drop(columns=['pkn_space'])"
   ]
  },
  {
   "cell_type": "code",
   "execution_count": 14,
   "id": "8b54dab5-de74-48d0-a7d4-56ca50914fda",
   "metadata": {},
   "outputs": [
    {
     "data": {
      "text/html": [
       "<div>\n",
       "<style scoped>\n",
       "    .dataframe tbody tr th:only-of-type {\n",
       "        vertical-align: middle;\n",
       "    }\n",
       "\n",
       "    .dataframe tbody tr th {\n",
       "        vertical-align: top;\n",
       "    }\n",
       "\n",
       "    .dataframe thead th {\n",
       "        text-align: right;\n",
       "    }\n",
       "</style>\n",
       "<table border=\"1\" class=\"dataframe\">\n",
       "  <thead>\n",
       "    <tr style=\"text-align: right;\">\n",
       "      <th></th>\n",
       "      <th>bed</th>\n",
       "      <th>bath</th>\n",
       "      <th>toilet</th>\n",
       "      <th>pkn_space</th>\n",
       "      <th>price</th>\n",
       "    </tr>\n",
       "  </thead>\n",
       "  <tbody>\n",
       "    <tr>\n",
       "      <th>count</th>\n",
       "      <td>8239.000000</td>\n",
       "      <td>8239.000000</td>\n",
       "      <td>8239.000000</td>\n",
       "      <td>5758.000000</td>\n",
       "      <td>8.239000e+03</td>\n",
       "    </tr>\n",
       "    <tr>\n",
       "      <th>mean</th>\n",
       "      <td>4.394708</td>\n",
       "      <td>4.595582</td>\n",
       "      <td>8.329530</td>\n",
       "      <td>35.487669</td>\n",
       "      <td>1.747285e+08</td>\n",
       "    </tr>\n",
       "    <tr>\n",
       "      <th>std</th>\n",
       "      <td>2.046154</td>\n",
       "      <td>2.332427</td>\n",
       "      <td>64.722339</td>\n",
       "      <td>181.760659</td>\n",
       "      <td>4.328411e+08</td>\n",
       "    </tr>\n",
       "    <tr>\n",
       "      <th>min</th>\n",
       "      <td>1.000000</td>\n",
       "      <td>1.000000</td>\n",
       "      <td>1.000000</td>\n",
       "      <td>1.000000</td>\n",
       "      <td>1.200000e+06</td>\n",
       "    </tr>\n",
       "    <tr>\n",
       "      <th>25%</th>\n",
       "      <td>4.000000</td>\n",
       "      <td>4.000000</td>\n",
       "      <td>5.000000</td>\n",
       "      <td>3.000000</td>\n",
       "      <td>5.900000e+07</td>\n",
       "    </tr>\n",
       "    <tr>\n",
       "      <th>50%</th>\n",
       "      <td>4.000000</td>\n",
       "      <td>4.000000</td>\n",
       "      <td>5.000000</td>\n",
       "      <td>4.000000</td>\n",
       "      <td>8.500000e+07</td>\n",
       "    </tr>\n",
       "    <tr>\n",
       "      <th>75%</th>\n",
       "      <td>5.000000</td>\n",
       "      <td>5.000000</td>\n",
       "      <td>6.000000</td>\n",
       "      <td>6.000000</td>\n",
       "      <td>1.600000e+08</td>\n",
       "    </tr>\n",
       "    <tr>\n",
       "      <th>max</th>\n",
       "      <td>72.000000</td>\n",
       "      <td>72.000000</td>\n",
       "      <td>2500.000000</td>\n",
       "      <td>3600.000000</td>\n",
       "      <td>1.650000e+10</td>\n",
       "    </tr>\n",
       "  </tbody>\n",
       "</table>\n",
       "</div>"
      ],
      "text/plain": [
       "               bed         bath       toilet    pkn_space         price\n",
       "count  8239.000000  8239.000000  8239.000000  5758.000000  8.239000e+03\n",
       "mean      4.394708     4.595582     8.329530    35.487669  1.747285e+08\n",
       "std       2.046154     2.332427    64.722339   181.760659  4.328411e+08\n",
       "min       1.000000     1.000000     1.000000     1.000000  1.200000e+06\n",
       "25%       4.000000     4.000000     5.000000     3.000000  5.900000e+07\n",
       "50%       4.000000     4.000000     5.000000     4.000000  8.500000e+07\n",
       "75%       5.000000     5.000000     6.000000     6.000000  1.600000e+08\n",
       "max      72.000000    72.000000  2500.000000  3600.000000  1.650000e+10"
      ]
     },
     "execution_count": 14,
     "metadata": {},
     "output_type": "execute_result"
    }
   ],
   "source": [
    "# descriptive statistics\n",
    "all_df1.describe()"
   ]
  },
  {
   "cell_type": "markdown",
   "id": "1877fef0-a87a-49d5-b63b-1966609c0c44",
   "metadata": {},
   "source": [
    "* The max number of ***bedrooms***, ***bathrooms***, ***toilets***, ***parking space***, and max ***price*** is extremely suspicious. "
   ]
  },
  {
   "cell_type": "markdown",
   "id": "2bee91e5-0372-4153-895a-a016518ac751",
   "metadata": {},
   "source": [
    "<br>\n",
    "\n",
    "#### Handle Aberrant values."
   ]
  },
  {
   "cell_type": "code",
   "execution_count": 15,
   "id": "86356fb8-9e5e-421b-ad7e-463b54194dbd",
   "metadata": {},
   "outputs": [
    {
     "data": {
      "image/png": "[encoded data removed]",
      "text/plain": [
       "<Figure size 864x648 with 6 Axes>"
      ]
     },
     "metadata": {},
     "output_type": "display_data"
    }
   ],
   "source": [
    "# list containing the numerical features\n",
    "num_col = all_df1.select_dtypes(exclude='O').columns.to_list()\n",
    "\n",
    "n_rows, n_cols = 2, 3\n",
    "fig, axs = plt.subplots(n_rows, n_cols, figsize=(n_rows * 6 , n_cols * 3))\n",
    "\n",
    "for idx, col in enumerate(num_col):\n",
    "    ax = axs[(idx // n_cols), (idx % n_cols)]\n",
    "    sns.histplot(x=col, data=all_df1, ax=ax, kde=True)\n",
    "    ax.set_title(f\"Histogram of {col}\", size=15)\n",
    "    \n",
    "fig.tight_layout()\n",
    "plt.show()"
   ]
  },
  {
   "cell_type": "markdown",
   "id": "b1254692-3944-4a29-a003-9b5c8d89d341",
   "metadata": {},
   "source": [
    "* The features do not follow a Gaussian distribution.\n",
    "* Remove the outliers using the interquartile range."
   ]
  },
  {
   "cell_type": "code",
   "execution_count": 16,
   "id": "09d2e8a4-9a27-40c8-ac4d-ee3658236db1",
   "metadata": {},
   "outputs": [],
   "source": [
    "all_df2 = all_df1.copy()\n",
    "\n",
    "# drop the 'title'\n",
    "all_df2.drop(columns=['title'], inplace=True)\n",
    "# select houses with bedrooms between 2 and 7\n",
    "all_df2 = all_df2.loc[(all_df2['bed'] > 1) & (all_df2['toilet'] < 8)]\n",
    "\n",
    "# select houses with bathrooms between 2 and 7\n",
    "all_df2 = all_df2.loc[(all_df2['bath'] > 1) & (all_df2['bath'] < 8)]\n",
    "\n",
    "# select houses with pkn_space between 1 and 10\n",
    "all_df2 = all_df2.loc[(all_df2['pkn_space'] > 2) & (all_df2['pkn_space'] < 11)]\n",
    "\n",
    "#  outliers for price\n",
    "cut_off = np.percentile(all_df2['price'], 97)  # remove prices above the 97th percentile\n",
    "all_df2 = all_df2.loc[all_df2['price'] <= cut_off]\n",
    "\n",
    "# fill the missing values in 'pkn_space' with the median value\n",
    "median = all_df2['pkn_space'].median()\n",
    "all_df2['pkn_space'] = np.where(pd.isna(all_df2['pkn_space']), median, all_df2['pkn_space']) "
   ]
  },
  {
   "cell_type": "code",
   "execution_count": 17,
   "id": "bbc9077e-efc5-48fb-a566-26c2d7499282",
   "metadata": {},
   "outputs": [
    {
     "data": {
      "image/png": "[encoded data removed]",
      "text/plain": [
       "<Figure size 864x648 with 6 Axes>"
      ]
     },
     "metadata": {},
     "output_type": "display_data"
    }
   ],
   "source": [
    "n_rows, n_cols = 2, 3\n",
    "fig, axs = plt.subplots(n_rows, n_cols, figsize=(n_rows * 6 , n_cols * 3))\n",
    "\n",
    "for idx, col in enumerate(num_col):\n",
    "    ax = axs[(idx // n_cols), (idx % n_cols)]\n",
    "    sns.histplot(x=col, data=all_df2, ax=ax)\n",
    "    ax.set_title(f\"Histogram of {col}\", size=15)\n",
    "    \n",
    "fig.tight_layout()\n",
    "plt.show()"
   ]
  },
  {
   "cell_type": "markdown",
   "id": "47b7248d-57d6-4449-853c-fa6891dc59f3",
   "metadata": {},
   "source": [
    "* From the distibutions, bed, bath, toilet are all categorical features.\n",
    "* The target feature (price) is positively skewed. "
   ]
  },
  {
   "cell_type": "code",
   "execution_count": 18,
   "id": "9cfffce1-561a-4f5d-86da-555c7fba7491",
   "metadata": {},
   "outputs": [
    {
     "data": {
      "text/html": [
       "<div>\n",
       "<style scoped>\n",
       "    .dataframe tbody tr th:only-of-type {\n",
       "        vertical-align: middle;\n",
       "    }\n",
       "\n",
       "    .dataframe tbody tr th {\n",
       "        vertical-align: top;\n",
       "    }\n",
       "\n",
       "    .dataframe thead th {\n",
       "        text-align: right;\n",
       "    }\n",
       "</style>\n",
       "<table border=\"1\" class=\"dataframe\">\n",
       "  <thead>\n",
       "    <tr style=\"text-align: right;\">\n",
       "      <th></th>\n",
       "      <th>location</th>\n",
       "      <th>bed</th>\n",
       "      <th>bath</th>\n",
       "      <th>toilet</th>\n",
       "      <th>pkn_space</th>\n",
       "      <th>price</th>\n",
       "    </tr>\n",
       "  </thead>\n",
       "  <tbody>\n",
       "    <tr>\n",
       "      <th>9</th>\n",
       "      <td>Ajah</td>\n",
       "      <td>5</td>\n",
       "      <td>4</td>\n",
       "      <td>6</td>\n",
       "      <td>4.0</td>\n",
       "      <td>80000000</td>\n",
       "    </tr>\n",
       "    <tr>\n",
       "      <th>16</th>\n",
       "      <td>Ajah</td>\n",
       "      <td>5</td>\n",
       "      <td>4</td>\n",
       "      <td>6</td>\n",
       "      <td>4.0</td>\n",
       "      <td>80000000</td>\n",
       "    </tr>\n",
       "    <tr>\n",
       "      <th>23</th>\n",
       "      <td>Ajah</td>\n",
       "      <td>5</td>\n",
       "      <td>4</td>\n",
       "      <td>6</td>\n",
       "      <td>4.0</td>\n",
       "      <td>80000000</td>\n",
       "    </tr>\n",
       "    <tr>\n",
       "      <th>30</th>\n",
       "      <td>Ajah</td>\n",
       "      <td>5</td>\n",
       "      <td>4</td>\n",
       "      <td>6</td>\n",
       "      <td>4.0</td>\n",
       "      <td>80000000</td>\n",
       "    </tr>\n",
       "    <tr>\n",
       "      <th>42</th>\n",
       "      <td>Ikoyi</td>\n",
       "      <td>4</td>\n",
       "      <td>4</td>\n",
       "      <td>5</td>\n",
       "      <td>4.0</td>\n",
       "      <td>220000000</td>\n",
       "    </tr>\n",
       "  </tbody>\n",
       "</table>\n",
       "</div>"
      ],
      "text/plain": [
       "   location  bed  bath  toilet  pkn_space      price\n",
       "9      Ajah    5     4       6        4.0   80000000\n",
       "16     Ajah    5     4       6        4.0   80000000\n",
       "23     Ajah    5     4       6        4.0   80000000\n",
       "30     Ajah    5     4       6        4.0   80000000\n",
       "42    Ikoyi    4     4       5        4.0  220000000"
      ]
     },
     "execution_count": 18,
     "metadata": {},
     "output_type": "execute_result"
    }
   ],
   "source": [
    "# rename column\n",
    "all_df2 = all_df2.rename(columns={'address': 'location'}) \n",
    "\n",
    "all_df2.head()"
   ]
  },
  {
   "cell_type": "markdown",
   "id": "48bb933f-fcb6-40de-aa68-c9242bf7c50b",
   "metadata": {},
   "source": [
    "<br>\n",
    "\n",
    "* Frequency Table"
   ]
  },
  {
   "cell_type": "code",
   "execution_count": 19,
   "id": "60ad4893-ea88-47fa-ad7d-f88fd6eeed1c",
   "metadata": {},
   "outputs": [],
   "source": [
    "addr_count = pd.crosstab(index=all_df2['location'], columns='Count').apply(lambda x: x.sort_values(ascending=False))\n",
    "addr_count.columns = ['Count']  # rename column\n",
    "addr_count = addr_count.reset_index()\n",
    "# select the top 15 locations\n",
    "addr_count = addr_count[:15]"
   ]
  },
  {
   "cell_type": "code",
   "execution_count": 20,
   "id": "5740b59a-6356-4fd0-835c-292539cba024",
   "metadata": {},
   "outputs": [
    {
     "data": {
      "image/png": "[encoded data removed]",
      "text/plain": [
       "<Figure size 648x288 with 1 Axes>"
      ]
     },
     "metadata": {},
     "output_type": "display_data"
    }
   ],
   "source": [
    "fig, ax = plt.subplots(figsize=(9, 4))\n",
    "\n",
    "fig = sns.barplot(x='location', y='Count', data=addr_count)\n",
    "plt.xlabel('Cities in Lagos', size=15)\n",
    "plt.tick_params(axis='x', labelsize=12, labelrotation=80)\n",
    "plt.ylabel('Count', size=15)\n",
    "plt.title('House Locations in Lagos By Frequency', size=18)\n",
    "\n",
    "for bar in ax.patches:\n",
    "    x = bar.get_x() + bar.get_width() / 2\n",
    "    y = bar.get_height()\n",
    "    ax.annotate(text=y,                             # text pos\n",
    "                xy=(x, y),                          # (x, y)\n",
    "                xytext=(0, 6),                      # text position\n",
    "                ha='center',                        # horizontal alignment\n",
    "                va='center',                        # vertical alignment\n",
    "                size=12,                            # text size\n",
    "                textcoords='offset points')         # text coordinates???\n",
    "\n",
    "plt.show()"
   ]
  },
  {
   "cell_type": "code",
   "execution_count": 21,
   "id": "4a9d3ccb-1ac9-41bc-82c9-055997edcbd8",
   "metadata": {},
   "outputs": [],
   "source": [
    "locations = ['Lekki','Ajah','Ikeja','Ikoyi','Victoria Island (VI)','Ibeju Lekki','Isheri North','Magodo','Maryland',\n",
    "             'Ikorodu','Surulere','Ojodu','Ipaja','Ikotun','Isolo']\n",
    "\n",
    "# Filter out locations with fewer counts\n",
    "all_df2 = all_df2.loc[all_df2['location'].isin(locations)]"
   ]
  },
  {
   "cell_type": "markdown",
   "id": "ff6fc625-ad11-44cd-bbac-34281a512979",
   "metadata": {},
   "source": [
    "<br>\n",
    "\n",
    "#### Multivariate Analysis\n",
    "* Frequency Table"
   ]
  },
  {
   "cell_type": "code",
   "execution_count": 22,
   "id": "b78607b2-2f33-47d2-9c87-c45258869bfc",
   "metadata": {},
   "outputs": [
    {
     "data": {
      "text/html": [
       "<div>\n",
       "<style scoped>\n",
       "    .dataframe tbody tr th:only-of-type {\n",
       "        vertical-align: middle;\n",
       "    }\n",
       "\n",
       "    .dataframe tbody tr th {\n",
       "        vertical-align: top;\n",
       "    }\n",
       "\n",
       "    .dataframe thead th {\n",
       "        text-align: right;\n",
       "    }\n",
       "</style>\n",
       "<table border=\"1\" class=\"dataframe\">\n",
       "  <thead>\n",
       "    <tr style=\"text-align: right;\">\n",
       "      <th></th>\n",
       "      <th>Price(median)</th>\n",
       "    </tr>\n",
       "    <tr>\n",
       "      <th>bed</th>\n",
       "      <th></th>\n",
       "    </tr>\n",
       "  </thead>\n",
       "  <tbody>\n",
       "    <tr>\n",
       "      <th>7</th>\n",
       "      <td>380000000</td>\n",
       "    </tr>\n",
       "    <tr>\n",
       "      <th>6</th>\n",
       "      <td>350000000</td>\n",
       "    </tr>\n",
       "    <tr>\n",
       "      <th>5</th>\n",
       "      <td>150000000</td>\n",
       "    </tr>\n",
       "    <tr>\n",
       "      <th>4</th>\n",
       "      <td>75000000</td>\n",
       "    </tr>\n",
       "    <tr>\n",
       "      <th>3</th>\n",
       "      <td>40000000</td>\n",
       "    </tr>\n",
       "    <tr>\n",
       "      <th>2</th>\n",
       "      <td>30000000</td>\n",
       "    </tr>\n",
       "  </tbody>\n",
       "</table>\n",
       "</div>"
      ],
      "text/plain": [
       "     Price(median)\n",
       "bed               \n",
       "7        380000000\n",
       "6        350000000\n",
       "5        150000000\n",
       "4         75000000\n",
       "3         40000000\n",
       "2         30000000"
      ]
     },
     "execution_count": 22,
     "metadata": {},
     "output_type": "execute_result"
    }
   ],
   "source": [
    "grpby_bed = all_df2.groupby(['bed'])[['price']].agg(['median']).apply(lambda x: x.sort_values(ascending=False))\n",
    "grpby_bed.columns = ['Price(median)']\n",
    "\n",
    "grpby_bed"
   ]
  },
  {
   "cell_type": "code",
   "execution_count": 23,
   "id": "6c62a6be-4883-4808-a5fa-e77ac04741a6",
   "metadata": {},
   "outputs": [
    {
     "data": {
      "text/html": [
       "<div>\n",
       "<style scoped>\n",
       "    .dataframe tbody tr th:only-of-type {\n",
       "        vertical-align: middle;\n",
       "    }\n",
       "\n",
       "    .dataframe tbody tr th {\n",
       "        vertical-align: top;\n",
       "    }\n",
       "\n",
       "    .dataframe thead th {\n",
       "        text-align: right;\n",
       "    }\n",
       "</style>\n",
       "<table border=\"1\" class=\"dataframe\">\n",
       "  <thead>\n",
       "    <tr style=\"text-align: right;\">\n",
       "      <th></th>\n",
       "      <th>Price(median)</th>\n",
       "    </tr>\n",
       "    <tr>\n",
       "      <th>bath</th>\n",
       "      <th></th>\n",
       "    </tr>\n",
       "  </thead>\n",
       "  <tbody>\n",
       "    <tr>\n",
       "      <th>7</th>\n",
       "      <td>290000000</td>\n",
       "    </tr>\n",
       "    <tr>\n",
       "      <th>6</th>\n",
       "      <td>140000000</td>\n",
       "    </tr>\n",
       "    <tr>\n",
       "      <th>5</th>\n",
       "      <td>133500000</td>\n",
       "    </tr>\n",
       "    <tr>\n",
       "      <th>4</th>\n",
       "      <td>75000000</td>\n",
       "    </tr>\n",
       "    <tr>\n",
       "      <th>2</th>\n",
       "      <td>45000000</td>\n",
       "    </tr>\n",
       "    <tr>\n",
       "      <th>3</th>\n",
       "      <td>39000000</td>\n",
       "    </tr>\n",
       "  </tbody>\n",
       "</table>\n",
       "</div>"
      ],
      "text/plain": [
       "      Price(median)\n",
       "bath               \n",
       "7         290000000\n",
       "6         140000000\n",
       "5         133500000\n",
       "4          75000000\n",
       "2          45000000\n",
       "3          39000000"
      ]
     },
     "execution_count": 23,
     "metadata": {},
     "output_type": "execute_result"
    }
   ],
   "source": [
    "grpby_bath = all_df2.groupby(['bath'])[['price']].agg(['median']).apply(lambda x: x.sort_values(ascending=False))\n",
    "grpby_bath.columns = ['Price(median)']\n",
    "\n",
    "grpby_bath"
   ]
  },
  {
   "cell_type": "code",
   "execution_count": 24,
   "id": "e93d905a-dcfc-479c-833a-a8eaf5953f41",
   "metadata": {},
   "outputs": [
    {
     "data": {
      "image/png": "[encoded data removed]",
      "text/plain": [
       "<Figure size 720x432 with 3 Axes>"
      ]
     },
     "metadata": {},
     "output_type": "display_data"
    }
   ],
   "source": [
    "# Boxplot of Features vs Target\n",
    "n_rows, n_cols = 1, 3\n",
    "fig, axs = plt.subplots(n_rows, n_cols, sharey=True, figsize=(10 , 6))\n",
    "\n",
    "\n",
    "for idx, col in enumerate(['bed', 'bath', 'toilet']):\n",
    "    ax = axs[idx]\n",
    "    sns.boxplot(x=col, y='price',data=all_df2, ax=ax)\n",
    "    ax.set_ylabel('Price (NGN)')\n",
    "    ax.set_title(f\"Boxplot of {col}\", size=15)\n",
    "    \n",
    "fig.tight_layout()\n",
    "plt.show()"
   ]
  },
  {
   "cell_type": "code",
   "execution_count": 25,
   "id": "800d6144-198a-4614-be47-63193b48ca54",
   "metadata": {},
   "outputs": [
    {
     "data": {
      "image/png": "[encoded data removed]",
      "text/plain": [
       "<Figure size 720x360 with 1 Axes>"
      ]
     },
     "metadata": {},
     "output_type": "display_data"
    }
   ],
   "source": [
    "# Box Plot of Locations vs Price\n",
    "\n",
    "plt.figure(figsize=(10, 5))\n",
    "sns.boxplot(x='location', y='price',data=all_df2)\n",
    "plt.tick_params(axis='x', labelsize=12, labelrotation=80)\n",
    "plt.ylabel('Price(NGN)')\n",
    "plt.title('Box Plot of Locations vs Price')\n",
    "\n",
    "plt.show()"
   ]
  },
  {
   "cell_type": "markdown",
   "id": "1fef6c4c-6d91-4b8a-8e88-d18cfc5b68d8",
   "metadata": {},
   "source": [
    "* There are still outliers in the data but it's fine.\n",
    "* Generally, it appears that as the facilities in a house increases, the median price also increases which sounds logical.\n",
    "* It also appears that the price of houses vary based on the location.\n",
    "* Houses in Ikoyi and VI are really pricey!"
   ]
  },
  {
   "cell_type": "markdown",
   "id": "f9634823-6020-4135-93a3-975a8fa0f485",
   "metadata": {},
   "source": [
    "### Model Building"
   ]
  },
  {
   "cell_type": "code",
   "execution_count": 26,
   "id": "fbe5e20d-bbbb-4635-b066-8cbc75965641",
   "metadata": {},
   "outputs": [],
   "source": [
    "# Preprocess the features\n",
    "from sklearn.preprocessing import LabelEncoder"
   ]
  },
  {
   "cell_type": "markdown",
   "id": "8fa4de6a-f93d-4bdd-8d66-3db50e917068",
   "metadata": {},
   "source": [
    "* 'Before Encoding'"
   ]
  },
  {
   "cell_type": "code",
   "execution_count": 27,
   "id": "0205f71e-65f9-48e2-9345-0d267fceb3e5",
   "metadata": {},
   "outputs": [
    {
     "data": {
      "text/html": [
       "<div>\n",
       "<style scoped>\n",
       "    .dataframe tbody tr th:only-of-type {\n",
       "        vertical-align: middle;\n",
       "    }\n",
       "\n",
       "    .dataframe tbody tr th {\n",
       "        vertical-align: top;\n",
       "    }\n",
       "\n",
       "    .dataframe thead th {\n",
       "        text-align: right;\n",
       "    }\n",
       "</style>\n",
       "<table border=\"1\" class=\"dataframe\">\n",
       "  <thead>\n",
       "    <tr style=\"text-align: right;\">\n",
       "      <th></th>\n",
       "      <th>location</th>\n",
       "      <th>bed</th>\n",
       "      <th>bath</th>\n",
       "      <th>toilet</th>\n",
       "      <th>pkn_space</th>\n",
       "      <th>price</th>\n",
       "    </tr>\n",
       "  </thead>\n",
       "  <tbody>\n",
       "    <tr>\n",
       "      <th>9</th>\n",
       "      <td>Ajah</td>\n",
       "      <td>5</td>\n",
       "      <td>4</td>\n",
       "      <td>6</td>\n",
       "      <td>4.0</td>\n",
       "      <td>80000000</td>\n",
       "    </tr>\n",
       "    <tr>\n",
       "      <th>16</th>\n",
       "      <td>Ajah</td>\n",
       "      <td>5</td>\n",
       "      <td>4</td>\n",
       "      <td>6</td>\n",
       "      <td>4.0</td>\n",
       "      <td>80000000</td>\n",
       "    </tr>\n",
       "    <tr>\n",
       "      <th>23</th>\n",
       "      <td>Ajah</td>\n",
       "      <td>5</td>\n",
       "      <td>4</td>\n",
       "      <td>6</td>\n",
       "      <td>4.0</td>\n",
       "      <td>80000000</td>\n",
       "    </tr>\n",
       "  </tbody>\n",
       "</table>\n",
       "</div>"
      ],
      "text/plain": [
       "   location  bed  bath  toilet  pkn_space     price\n",
       "9      Ajah    5     4       6        4.0  80000000\n",
       "16     Ajah    5     4       6        4.0  80000000\n",
       "23     Ajah    5     4       6        4.0  80000000"
      ]
     },
     "execution_count": 27,
     "metadata": {},
     "output_type": "execute_result"
    }
   ],
   "source": [
    "all_df2.head(3)"
   ]
  },
  {
   "cell_type": "markdown",
   "id": "219f1016-64a0-44cf-9cd5-c01d89114e34",
   "metadata": {},
   "source": [
    "* 'After Encoding'"
   ]
  },
  {
   "cell_type": "code",
   "execution_count": 28,
   "id": "370b2573-d63f-404a-921d-9696bf2682ca",
   "metadata": {},
   "outputs": [
    {
     "data": {
      "text/html": [
       "<div>\n",
       "<style scoped>\n",
       "    .dataframe tbody tr th:only-of-type {\n",
       "        vertical-align: middle;\n",
       "    }\n",
       "\n",
       "    .dataframe tbody tr th {\n",
       "        vertical-align: top;\n",
       "    }\n",
       "\n",
       "    .dataframe thead th {\n",
       "        text-align: right;\n",
       "    }\n",
       "</style>\n",
       "<table border=\"1\" class=\"dataframe\">\n",
       "  <thead>\n",
       "    <tr style=\"text-align: right;\">\n",
       "      <th></th>\n",
       "      <th>location</th>\n",
       "      <th>bed</th>\n",
       "      <th>bath</th>\n",
       "      <th>toilet</th>\n",
       "      <th>pkn_space</th>\n",
       "      <th>price</th>\n",
       "    </tr>\n",
       "  </thead>\n",
       "  <tbody>\n",
       "    <tr>\n",
       "      <th>9</th>\n",
       "      <td>0</td>\n",
       "      <td>5</td>\n",
       "      <td>4</td>\n",
       "      <td>6</td>\n",
       "      <td>4.0</td>\n",
       "      <td>80000000</td>\n",
       "    </tr>\n",
       "    <tr>\n",
       "      <th>16</th>\n",
       "      <td>0</td>\n",
       "      <td>5</td>\n",
       "      <td>4</td>\n",
       "      <td>6</td>\n",
       "      <td>4.0</td>\n",
       "      <td>80000000</td>\n",
       "    </tr>\n",
       "    <tr>\n",
       "      <th>23</th>\n",
       "      <td>0</td>\n",
       "      <td>5</td>\n",
       "      <td>4</td>\n",
       "      <td>6</td>\n",
       "      <td>4.0</td>\n",
       "      <td>80000000</td>\n",
       "    </tr>\n",
       "  </tbody>\n",
       "</table>\n",
       "</div>"
      ],
      "text/plain": [
       "    location  bed  bath  toilet  pkn_space     price\n",
       "9          0    5     4       6        4.0  80000000\n",
       "16         0    5     4       6        4.0  80000000\n",
       "23         0    5     4       6        4.0  80000000"
      ]
     },
     "execution_count": 28,
     "metadata": {},
     "output_type": "execute_result"
    }
   ],
   "source": [
    "all_df3 = all_df2.copy()\n",
    "\n",
    "# encode the address\n",
    "le_location = LabelEncoder()\n",
    "all_df3['location'] = le_location.fit_transform(all_df3['location'])\n",
    "\n",
    "all_df3.head(3)"
   ]
  },
  {
   "cell_type": "markdown",
   "id": "4aa7b764-42c3-4610-ab05-52cb7350bae0",
   "metadata": {},
   "source": [
    "* Transform the price."
   ]
  },
  {
   "cell_type": "code",
   "execution_count": 29,
   "id": "c638fe3c-6e29-4443-8982-27cfa0cf4931",
   "metadata": {
    "tags": []
   },
   "outputs": [],
   "source": [
    "# transform the price\n",
    "all_df3['log_price'] = all_df3['price'].apply(lambda price: np.log(price + 1))\n",
    "\n",
    "# drop the 'price'\n",
    "all_df3 = all_df3.drop(columns=['price'])"
   ]
  },
  {
   "cell_type": "code",
   "execution_count": 30,
   "id": "02bf7069-d2ca-4828-a0fb-3a6c67fd7566",
   "metadata": {},
   "outputs": [
    {
     "data": {
      "image/png": "[encoded data removed]",
      "text/plain": [
       "<Figure size 432x288 with 1 Axes>"
      ]
     },
     "metadata": {},
     "output_type": "display_data"
    }
   ],
   "source": [
    "sns.histplot(x='log_price', data=all_df3, kde=True)\n",
    "plt.title('Histogram of Transformed Price')\n",
    "\n",
    "plt.show()"
   ]
  },
  {
   "cell_type": "code",
   "execution_count": 31,
   "id": "dac7b88a-9789-4791-8b01-aa4e0a59002b",
   "metadata": {},
   "outputs": [
    {
     "data": {
      "image/png": "[encoded data removed]",
      "text/plain": [
       "<Figure size 864x360 with 2 Axes>"
      ]
     },
     "metadata": {},
     "output_type": "display_data"
    }
   ],
   "source": [
    "### Correlation Plot\n",
    "plt.figure(figsize=(12, 5))\n",
    "\n",
    "corr_matrix = all_df3.corr()\n",
    "mask = np.triu(corr_matrix)\n",
    "sns.heatmap(data=corr_matrix, mask=mask, annot=True, cmap='OrRd')\n",
    "plt.title('Correlation Plot', size=18)\n",
    "\n",
    "plt.show()"
   ]
  },
  {
   "cell_type": "markdown",
   "id": "d7921ecd-cccf-47d2-88fd-5c37c60dee6f",
   "metadata": {},
   "source": [
    "<br>\n",
    "\n",
    "* Build models."
   ]
  },
  {
   "cell_type": "code",
   "execution_count": 32,
   "id": "17f95277-55c8-41dc-9200-60c027a8a3af",
   "metadata": {},
   "outputs": [],
   "source": [
    "from sklearn.model_selection import train_test_split, GridSearchCV\n",
    "from sklearn import metrics\n",
    "\n",
    "from sklearn.linear_model import LinearRegression, Ridge\n",
    "from sklearn.ensemble import RandomForestRegressor, AdaBoostRegressor\n",
    "from sklearn.svm import SVR"
   ]
  },
  {
   "cell_type": "code",
   "execution_count": 33,
   "id": "57aa6053-f2c7-4dd4-8a96-43bbc93952e1",
   "metadata": {},
   "outputs": [],
   "source": [
    "X = all_df3.drop(columns=['log_price'])\n",
    "y = all_df3['log_price']\n",
    "\n",
    "X_train, X_test, y_train, y_test = train_test_split(X, y, test_size=0.2, random_state=123)"
   ]
  },
  {
   "cell_type": "code",
   "execution_count": 34,
   "id": "f09103ce-a8c1-42de-9737-18f2446b77d8",
   "metadata": {},
   "outputs": [],
   "source": [
    "models = {\n",
    "    'lin_model': LinearRegression(),\n",
    "    'ridge_model': Ridge(random_state=123),\n",
    "    'rf_model': RandomForestRegressor(random_state=123),\n",
    "    'ada_boost': AdaBoostRegressor(random_state=123),\n",
    "    'svr': SVR(),\n",
    "}\n"
   ]
  },
  {
   "cell_type": "code",
   "execution_count": 35,
   "id": "99553495-005c-4785-999b-2a0d45ce7053",
   "metadata": {},
   "outputs": [],
   "source": [
    "def train_model(models: dict) -> pd.DataFrame:\n",
    "    \"\"\"\n",
    "    ============================================================================\n",
    "    It takes in a dictionary containing a key-pair of model name and estimators.\n",
    "    It returns a data frame containing the metrics of the trained model.\n",
    "    \"\"\"\n",
    "    my_dict = {}\n",
    "    name_list, r_sqd_list, mae_list, rmse_list = [], [], [], []\n",
    "    for name, estimator in models.items():\n",
    "        # fit \n",
    "        estimator.fit(X_train, y_train)\n",
    "\n",
    "        # make predictions\n",
    "        y_pred = estimator.predict(X_test)\n",
    "\n",
    "        # metrics\n",
    "        r_sqd = metrics.r2_score(y_test, y_pred)\n",
    "        mae = metrics.mean_absolute_error(y_test, y_pred)\n",
    "        mse = metrics.mean_squared_error(y_test, y_pred)\n",
    "        rmse = np.sqrt(mse)\n",
    "\n",
    "        # add the metrics to the empty list\n",
    "        name_list.append(name)\n",
    "        r_sqd_list.append(r_sqd)\n",
    "        mae_list.append(mae)\n",
    "        rmse_list.append(rmse)\n",
    "\n",
    "\n",
    "    my_dict['Name'] = name_list\n",
    "    my_dict['R_squared'] = r_sqd_list\n",
    "    my_dict['Mean_absolute_error'] = mae_list\n",
    "    my_dict['Root_mean_sqd_error'] = rmse_list   \n",
    "\n",
    "    my_df = pd.DataFrame(my_dict)\n",
    "    my_df = my_df.sort_values('Root_mean_sqd_error')\n",
    "    return my_df"
   ]
  },
  {
   "cell_type": "code",
   "execution_count": 36,
   "id": "6b28a5ce-5741-4353-84ec-034fcffa2f5d",
   "metadata": {},
   "outputs": [
    {
     "data": {
      "text/html": [
       "<div>\n",
       "<style scoped>\n",
       "    .dataframe tbody tr th:only-of-type {\n",
       "        vertical-align: middle;\n",
       "    }\n",
       "\n",
       "    .dataframe tbody tr th {\n",
       "        vertical-align: top;\n",
       "    }\n",
       "\n",
       "    .dataframe thead th {\n",
       "        text-align: right;\n",
       "    }\n",
       "</style>\n",
       "<table border=\"1\" class=\"dataframe\">\n",
       "  <thead>\n",
       "    <tr style=\"text-align: right;\">\n",
       "      <th></th>\n",
       "      <th>Name</th>\n",
       "      <th>R_squared</th>\n",
       "      <th>Mean_absolute_error</th>\n",
       "      <th>Root_mean_sqd_error</th>\n",
       "    </tr>\n",
       "  </thead>\n",
       "  <tbody>\n",
       "    <tr>\n",
       "      <th>2</th>\n",
       "      <td>rf_model</td>\n",
       "      <td>0.827757</td>\n",
       "      <td>0.245929</td>\n",
       "      <td>0.357980</td>\n",
       "    </tr>\n",
       "    <tr>\n",
       "      <th>4</th>\n",
       "      <td>svr</td>\n",
       "      <td>0.681634</td>\n",
       "      <td>0.329446</td>\n",
       "      <td>0.486690</td>\n",
       "    </tr>\n",
       "    <tr>\n",
       "      <th>3</th>\n",
       "      <td>ada_boost</td>\n",
       "      <td>0.603563</td>\n",
       "      <td>0.443090</td>\n",
       "      <td>0.543095</td>\n",
       "    </tr>\n",
       "    <tr>\n",
       "      <th>0</th>\n",
       "      <td>lin_model</td>\n",
       "      <td>0.354511</td>\n",
       "      <td>0.512547</td>\n",
       "      <td>0.693000</td>\n",
       "    </tr>\n",
       "    <tr>\n",
       "      <th>1</th>\n",
       "      <td>ridge_model</td>\n",
       "      <td>0.354493</td>\n",
       "      <td>0.512537</td>\n",
       "      <td>0.693009</td>\n",
       "    </tr>\n",
       "  </tbody>\n",
       "</table>\n",
       "</div>"
      ],
      "text/plain": [
       "          Name  R_squared  Mean_absolute_error  Root_mean_sqd_error\n",
       "2     rf_model   0.827757             0.245929             0.357980\n",
       "4          svr   0.681634             0.329446             0.486690\n",
       "3    ada_boost   0.603563             0.443090             0.543095\n",
       "0    lin_model   0.354511             0.512547             0.693000\n",
       "1  ridge_model   0.354493             0.512537             0.693009"
      ]
     },
     "execution_count": 36,
     "metadata": {},
     "output_type": "execute_result"
    }
   ],
   "source": [
    "train_model(models)"
   ]
  },
  {
   "cell_type": "code",
   "execution_count": 37,
   "id": "54b9014c-74d6-497a-ad31-7658e328853f",
   "metadata": {
    "tags": []
   },
   "outputs": [
    {
     "data": {
      "text/plain": [
       "{'max_depth': 14, 'n_estimators': 90}"
      ]
     },
     "execution_count": 37,
     "metadata": {},
     "output_type": "execute_result"
    }
   ],
   "source": [
    "rf = RandomForestRegressor(random_state=123)\n",
    "rf_params = dict(n_estimators=np.arange(80, 162, 10), max_depth=[10, 12, 14, 16, 18, None])\n",
    "gs_rf = GridSearchCV(rf, rf_params, n_jobs=-1, scoring=\"neg_root_mean_squared_error\")\n",
    "\n",
    "# fit the model\n",
    "gs_rf.fit(X_train, y_train)\n",
    "\n",
    "gs_rf.best_params_"
   ]
  },
  {
   "cell_type": "code",
   "execution_count": 38,
   "id": "43eb410a-ef18-47b2-86dc-254016e780f9",
   "metadata": {},
   "outputs": [
    {
     "data": {
      "text/html": [
       "<div>\n",
       "<style scoped>\n",
       "    .dataframe tbody tr th:only-of-type {\n",
       "        vertical-align: middle;\n",
       "    }\n",
       "\n",
       "    .dataframe tbody tr th {\n",
       "        vertical-align: top;\n",
       "    }\n",
       "\n",
       "    .dataframe thead th {\n",
       "        text-align: right;\n",
       "    }\n",
       "</style>\n",
       "<table border=\"1\" class=\"dataframe\">\n",
       "  <thead>\n",
       "    <tr style=\"text-align: right;\">\n",
       "      <th></th>\n",
       "      <th>Name</th>\n",
       "      <th>R_squared</th>\n",
       "      <th>Mean_absolute_error</th>\n",
       "      <th>Root_mean_sqd_error</th>\n",
       "    </tr>\n",
       "  </thead>\n",
       "  <tbody>\n",
       "    <tr>\n",
       "      <th>0</th>\n",
       "      <td>rf_model</td>\n",
       "      <td>0.828332</td>\n",
       "      <td>0.246706</td>\n",
       "      <td>0.357382</td>\n",
       "    </tr>\n",
       "  </tbody>\n",
       "</table>\n",
       "</div>"
      ],
      "text/plain": [
       "       Name  R_squared  Mean_absolute_error  Root_mean_sqd_error\n",
       "0  rf_model   0.828332             0.246706             0.357382"
      ]
     },
     "execution_count": 38,
     "metadata": {},
     "output_type": "execute_result"
    }
   ],
   "source": [
    "model = {\n",
    "    'rf_model': RandomForestRegressor(max_depth=14, n_estimators=160, random_state=123),\n",
    "}\n",
    "train_model(model)"
   ]
  },
  {
   "cell_type": "code",
   "execution_count": 39,
   "id": "87944553-6e92-4083-bc43-19a3b86f037a",
   "metadata": {},
   "outputs": [],
   "source": [
    "# train the model with the optimal hyperparameters\n",
    "reg = RandomForestRegressor(max_depth=14, n_estimators=160, random_state=123)\n",
    "# fit \n",
    "reg.fit(X_train, y_train)\n",
    "y_pred = reg.predict(X_test)"
   ]
  },
  {
   "cell_type": "code",
   "execution_count": 40,
   "id": "e1adea05-f186-4ede-bc1f-4003ebf7bc9f",
   "metadata": {},
   "outputs": [
    {
     "data": {
      "image/png": "[encoded data removed]",
      "text/plain": [
       "<Figure size 576x432 with 1 Axes>"
      ]
     },
     "metadata": {},
     "output_type": "display_data"
    }
   ],
   "source": [
    "# Residual plot\n",
    "residual = (y_test - y_pred)\n",
    "\n",
    "plt.figure(figsize=(8, 6))\n",
    "sns.histplot(residual, kde=True)\n",
    "plt.title(\"Residual Plot\", size=15)\n",
    "\n",
    "plt.show()"
   ]
  },
  {
   "cell_type": "markdown",
   "id": "e1081006-0ca7-4baa-963b-b27fd53ee434",
   "metadata": {},
   "source": [
    "* The residual plot follows a fairly Normal Distribution.\n",
    "<br>\n",
    "\n",
    "<hr>\n"
   ]
  },
  {
   "cell_type": "code",
   "execution_count": 41,
   "id": "1ec1d667-2d0b-4f80-9541-8b85b894e4b6",
   "metadata": {},
   "outputs": [
    {
     "data": {
      "text/html": [
       "<div>\n",
       "<style scoped>\n",
       "    .dataframe tbody tr th:only-of-type {\n",
       "        vertical-align: middle;\n",
       "    }\n",
       "\n",
       "    .dataframe tbody tr th {\n",
       "        vertical-align: top;\n",
       "    }\n",
       "\n",
       "    .dataframe thead th {\n",
       "        text-align: right;\n",
       "    }\n",
       "</style>\n",
       "<table border=\"1\" class=\"dataframe\">\n",
       "  <thead>\n",
       "    <tr style=\"text-align: right;\">\n",
       "      <th></th>\n",
       "      <th>Features</th>\n",
       "      <th>Weights</th>\n",
       "    </tr>\n",
       "  </thead>\n",
       "  <tbody>\n",
       "    <tr>\n",
       "      <th>0</th>\n",
       "      <td>location</td>\n",
       "      <td>0.515824</td>\n",
       "    </tr>\n",
       "    <tr>\n",
       "      <th>1</th>\n",
       "      <td>bed</td>\n",
       "      <td>0.348469</td>\n",
       "    </tr>\n",
       "    <tr>\n",
       "      <th>2</th>\n",
       "      <td>pkn_space</td>\n",
       "      <td>0.067437</td>\n",
       "    </tr>\n",
       "    <tr>\n",
       "      <th>3</th>\n",
       "      <td>bath</td>\n",
       "      <td>0.042566</td>\n",
       "    </tr>\n",
       "    <tr>\n",
       "      <th>4</th>\n",
       "      <td>toilet</td>\n",
       "      <td>0.025704</td>\n",
       "    </tr>\n",
       "  </tbody>\n",
       "</table>\n",
       "</div>"
      ],
      "text/plain": [
       "    Features   Weights\n",
       "0   location  0.515824\n",
       "1        bed  0.348469\n",
       "2  pkn_space  0.067437\n",
       "3       bath  0.042566\n",
       "4     toilet  0.025704"
      ]
     },
     "execution_count": 41,
     "metadata": {},
     "output_type": "execute_result"
    }
   ],
   "source": [
    "# Feature importance\n",
    "feat_imp = pd.Series(data=reg.feature_importances_, index=X.columns)\n",
    "feat_imp = feat_imp.sort_values(ascending=False).reset_index()\n",
    "feat_imp.columns = ['Features', 'Weights']\n",
    "feat_imp"
   ]
  },
  {
   "cell_type": "code",
   "execution_count": 42,
   "id": "1806ec9d-06a4-44e2-8029-ce12711aaf5b",
   "metadata": {},
   "outputs": [
    {
     "data": {
      "image/png": "[encoded data removed]",
      "text/plain": [
       "<Figure size 576x288 with 1 Axes>"
      ]
     },
     "metadata": {},
     "output_type": "display_data"
    }
   ],
   "source": [
    "plt.figure(figsize=(8, 4))\n",
    "sns.barplot(y='Features', x='Weights', data=feat_imp)\n",
    "plt.title('Feature Importance', size=18)\n",
    "\n",
    "plt.show()"
   ]
  },
  {
   "cell_type": "markdown",
   "id": "0dc3e19f-b66e-470a-be54-8cb7edb926c6",
   "metadata": {},
   "source": [
    "### Make Predictions on new data."
   ]
  },
  {
   "cell_type": "code",
   "execution_count": 43,
   "id": "dfc8d8a2-e725-4383-bd69-bed85e7b6dc0",
   "metadata": {},
   "outputs": [
    {
     "data": {
      "text/html": [
       "<div>\n",
       "<style scoped>\n",
       "    .dataframe tbody tr th:only-of-type {\n",
       "        vertical-align: middle;\n",
       "    }\n",
       "\n",
       "    .dataframe tbody tr th {\n",
       "        vertical-align: top;\n",
       "    }\n",
       "\n",
       "    .dataframe thead th {\n",
       "        text-align: right;\n",
       "    }\n",
       "</style>\n",
       "<table border=\"1\" class=\"dataframe\">\n",
       "  <thead>\n",
       "    <tr style=\"text-align: right;\">\n",
       "      <th></th>\n",
       "      <th>location</th>\n",
       "      <th>bed</th>\n",
       "      <th>bath</th>\n",
       "      <th>toilet</th>\n",
       "      <th>pkn_space</th>\n",
       "      <th>price</th>\n",
       "    </tr>\n",
       "  </thead>\n",
       "  <tbody>\n",
       "    <tr>\n",
       "      <th>890</th>\n",
       "      <td>Lekki</td>\n",
       "      <td>4</td>\n",
       "      <td>4</td>\n",
       "      <td>4</td>\n",
       "      <td>4.0</td>\n",
       "      <td>140000000</td>\n",
       "    </tr>\n",
       "    <tr>\n",
       "      <th>745</th>\n",
       "      <td>Ajah</td>\n",
       "      <td>5</td>\n",
       "      <td>5</td>\n",
       "      <td>6</td>\n",
       "      <td>5.0</td>\n",
       "      <td>100000000</td>\n",
       "    </tr>\n",
       "    <tr>\n",
       "      <th>1063</th>\n",
       "      <td>Lekki</td>\n",
       "      <td>5</td>\n",
       "      <td>5</td>\n",
       "      <td>6</td>\n",
       "      <td>6.0</td>\n",
       "      <td>300000000</td>\n",
       "    </tr>\n",
       "    <tr>\n",
       "      <th>255</th>\n",
       "      <td>Lekki</td>\n",
       "      <td>5</td>\n",
       "      <td>6</td>\n",
       "      <td>6</td>\n",
       "      <td>4.0</td>\n",
       "      <td>120000000</td>\n",
       "    </tr>\n",
       "    <tr>\n",
       "      <th>183</th>\n",
       "      <td>Lekki</td>\n",
       "      <td>4</td>\n",
       "      <td>4</td>\n",
       "      <td>5</td>\n",
       "      <td>4.0</td>\n",
       "      <td>60000000</td>\n",
       "    </tr>\n",
       "  </tbody>\n",
       "</table>\n",
       "</div>"
      ],
      "text/plain": [
       "     location  bed  bath  toilet  pkn_space      price\n",
       "890     Lekki    4     4       4        4.0  140000000\n",
       "745      Ajah    5     5       6        5.0  100000000\n",
       "1063    Lekki    5     5       6        6.0  300000000\n",
       "255     Lekki    5     6       6        4.0  120000000\n",
       "183     Lekki    4     4       5        4.0   60000000"
      ]
     },
     "execution_count": 43,
     "metadata": {},
     "output_type": "execute_result"
    }
   ],
   "source": [
    "all_df2.sample(5, random_state=123)"
   ]
  },
  {
   "cell_type": "code",
   "execution_count": 44,
   "id": "36b5861a-0e6f-4464-908e-ce67dc3a0e21",
   "metadata": {},
   "outputs": [
    {
     "data": {
      "text/plain": [
       "array([['Lekki', '5', '5', '5', '4']], dtype='<U5')"
      ]
     },
     "execution_count": 44,
     "metadata": {},
     "output_type": "execute_result"
    }
   ],
   "source": [
    "        # address, bed, bath, toilet, pkn_space\n",
    "new_data = [['Lekki', 5, 5, 5, 4]]\n",
    "# convert to array\n",
    "new_data = np.array(new_data)\n",
    "new_data"
   ]
  },
  {
   "cell_type": "code",
   "execution_count": 45,
   "id": "12bc49a3-36a3-47c8-8807-e78e3c4af53f",
   "metadata": {},
   "outputs": [
    {
     "data": {
      "text/plain": [
       "array([['9', '5', '5', '5', '4']], dtype='<U5')"
      ]
     },
     "execution_count": 45,
     "metadata": {},
     "output_type": "execute_result"
    }
   ],
   "source": [
    "# encode the data\n",
    "new_data[:, 0] = le_location.transform(new_data[:, 0])\n",
    "new_data"
   ]
  },
  {
   "cell_type": "code",
   "execution_count": 46,
   "id": "cc407fe9-d434-40bc-a3bc-c79a76d65c7d",
   "metadata": {},
   "outputs": [
    {
     "name": "stdout",
     "output_type": "stream",
     "text": [
      "The estimated cost of the property is NGN 173,322,913.0\n"
     ]
    }
   ],
   "source": [
    "# make predictions\n",
    "price = reg.predict(new_data)\n",
    "# convert the price from log_price to actual price\n",
    "act_price = np.exp(price) + 1\n",
    "act_price = round(act_price[0], 0)  # round to the neaarest Naira\n",
    "\n",
    "print(f\"The estimated cost of the property is NGN {act_price:,}\")"
   ]
  },
  {
   "cell_type": "markdown",
   "id": "12e97c21-c08a-4573-9375-c35f5c51abce",
   "metadata": {},
   "source": [
    "### Save the model"
   ]
  },
  {
   "cell_type": "code",
   "execution_count": 47,
   "id": "902a3e34-e2d8-487d-aadc-ef1f354252a4",
   "metadata": {},
   "outputs": [],
   "source": [
    "import pickle\n",
    "\n",
    "model = {}\n",
    "model['reg'] = reg\n",
    "model['location'] = le_location\n",
    "\n",
    "with open('./model/estimator.pkl', 'wb') as f:\n",
    "    pickle.dump(model, f)"
   ]
  },
  {
   "cell_type": "code",
   "execution_count": 48,
   "id": "1d9ff8d7-0899-4ef9-95d2-b1a7c5045b50",
   "metadata": {},
   "outputs": [],
   "source": [
    "# load the model\n",
    "with open('./model/estimator.pkl', 'rb') as f:\n",
    "    loaded_model = pickle.load(f)"
   ]
  },
  {
   "cell_type": "code",
   "execution_count": 49,
   "id": "5e34cc2e-db9c-4153-85ed-925238df656c",
   "metadata": {},
   "outputs": [],
   "source": [
    "rf_reg = loaded_model['reg']   # regressor\n",
    "le_location = loaded_model['location']  # label encoder"
   ]
  },
  {
   "cell_type": "code",
   "execution_count": 50,
   "id": "4fbb9638-dcc9-4f52-ad0b-80bb6eccd92d",
   "metadata": {},
   "outputs": [
    {
     "name": "stdout",
     "output_type": "stream",
     "text": [
      "The estimated cost of the property is NGN 173,322,913.0\n"
     ]
    }
   ],
   "source": [
    "        # address, bed, bath, toilet, pkn_space\n",
    "new_data = [['Lekki', 5, 5, 5, 4]]\n",
    "# convert to array\n",
    "new_data = np.array(new_data)\n",
    "new_data[:, 0] = le_location.transform(new_data[:, 0])\n",
    "\n",
    "# make predictions\n",
    "price = rf_reg.predict(new_data)\n",
    "# convert the price from log_price to actual price\n",
    "act_price = np.exp(price) + 1\n",
    "act_price = round(act_price[0], 0)  # round to the neaarest Naira\n",
    "\n",
    "print(f\"The estimated cost of the property is NGN {act_price:,}\")"
   ]
  },
  {
   "cell_type": "code",
   "execution_count": null,
   "id": "3c2d0e3f-5f5f-4a4d-ae2d-dec16f7eb835",
   "metadata": {},
   "outputs": [],
   "source": []
  },
  {
   "cell_type": "code",
   "execution_count": null,
   "id": "51c790de-f1ac-456e-b2da-e9819cc83a01",
   "metadata": {},
   "outputs": [],
   "source": []
  },
  {
   "cell_type": "code",
   "execution_count": null,
   "id": "e5b5702d-c040-4bdb-a5cd-17960814ca50",
   "metadata": {},
   "outputs": [],
   "source": []
  }
 ],
 "metadata": {
  "kernelspec": {
   "display_name": "ds",
   "language": "python",
   "name": "ds"
  },
  "language_info": {
   "codemirror_mode": {
    "name": "ipython",
    "version": 3
   },
   "file_extension": ".py",
   "mimetype": "text/x-python",
   "name": "python",
   "nbconvert_exporter": "python",
   "pygments_lexer": "ipython3",
   "version": "3.8.5"
  }
 },
 "nbformat": 4,
 "nbformat_minor": 5
}
