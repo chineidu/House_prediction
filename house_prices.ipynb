{
 "cells": [
  {
   "cell_type": "code",
   "execution_count": 1,
   "id": "04ddb7c2-eec3-4098-9bbd-13617268e234",
   "metadata": {},
   "outputs": [],
   "source": [
    "import numpy as np\n",
    "import pandas as pd\n",
    "import re\n",
    "import os\n",
    "\n",
    "import matplotlib.pyplot as plt\n",
    "plt.style.use('fivethirtyeight')\n",
    "import seaborn as sns\n",
    "\n",
    "from typing import List"
   ]
  },
  {
   "cell_type": "markdown",
   "id": "2fb733d8-6cdf-4c97-acc0-49dffd63184d",
   "metadata": {},
   "source": [
    "#### Merge all the data"
   ]
  },
  {
   "cell_type": "code",
   "execution_count": 3,
   "id": "4226e202-027d-4d1f-9467-fd477c7d7e9a",
   "metadata": {},
   "outputs": [
    {
     "data": {
      "text/html": [
       "<div>\n",
       "<style scoped>\n",
       "    .dataframe tbody tr th:only-of-type {\n",
       "        vertical-align: middle;\n",
       "    }\n",
       "\n",
       "    .dataframe tbody tr th {\n",
       "        vertical-align: top;\n",
       "    }\n",
       "\n",
       "    .dataframe thead th {\n",
       "        text-align: right;\n",
       "    }\n",
       "</style>\n",
       "<table border=\"1\" class=\"dataframe\">\n",
       "  <thead>\n",
       "    <tr style=\"text-align: right;\">\n",
       "      <th></th>\n",
       "      <th>title</th>\n",
       "      <th>address</th>\n",
       "      <th>bed</th>\n",
       "      <th>bath</th>\n",
       "      <th>toilet</th>\n",
       "      <th>pkn_space</th>\n",
       "      <th>price</th>\n",
       "    </tr>\n",
       "  </thead>\n",
       "  <tbody>\n",
       "    <tr>\n",
       "      <th>0</th>\n",
       "      <td>4 bedroom detached duplex for sale</td>\n",
       "      <td>Megamound Estate, Lekki County Homes., Ikota, ...</td>\n",
       "      <td>4Bedrooms</td>\n",
       "      <td>5Bathrooms</td>\n",
       "      <td>5Toilets</td>\n",
       "      <td>Save</td>\n",
       "      <td>75,000,000</td>\n",
       "    </tr>\n",
       "    <tr>\n",
       "      <th>1</th>\n",
       "      <td>4 bedroom semi-detached duplex for sale</td>\n",
       "      <td>In A Well Secured Estate, Ajah, Lagos</td>\n",
       "      <td>4Bedrooms</td>\n",
       "      <td>4Bathrooms</td>\n",
       "      <td>5Toilets</td>\n",
       "      <td>2Parking Spaces</td>\n",
       "      <td>47,000,000</td>\n",
       "    </tr>\n",
       "    <tr>\n",
       "      <th>2</th>\n",
       "      <td>5 bedroom semi-detached duplex for sale</td>\n",
       "      <td>In A Well Secured Estate, Ajah, Lagos</td>\n",
       "      <td>5Bedrooms</td>\n",
       "      <td>4Bathrooms</td>\n",
       "      <td>6Toilets</td>\n",
       "      <td>4Parking Spaces</td>\n",
       "      <td>80,000,000</td>\n",
       "    </tr>\n",
       "    <tr>\n",
       "      <th>3</th>\n",
       "      <td>3 bedroom detached duplex for sale</td>\n",
       "      <td>Ikola Road, By Command., Alagbado, Ifako-Ijaiy...</td>\n",
       "      <td>3Bedrooms</td>\n",
       "      <td>Save</td>\n",
       "      <td>NaN</td>\n",
       "      <td>NaN</td>\n",
       "      <td>27,500,000</td>\n",
       "    </tr>\n",
       "    <tr>\n",
       "      <th>4</th>\n",
       "      <td>3 bedroom terraced duplex for sale</td>\n",
       "      <td>2nd Tollgate, Lekki, Lagos</td>\n",
       "      <td>3Bedrooms</td>\n",
       "      <td>3Bathrooms</td>\n",
       "      <td>4Toilets</td>\n",
       "      <td>Save</td>\n",
       "      <td>45,000,000</td>\n",
       "    </tr>\n",
       "  </tbody>\n",
       "</table>\n",
       "</div>"
      ],
      "text/plain": [
       "                                     title  \\\n",
       "0       4 bedroom detached duplex for sale   \n",
       "1  4 bedroom semi-detached duplex for sale   \n",
       "2  5 bedroom semi-detached duplex for sale   \n",
       "3       3 bedroom detached duplex for sale   \n",
       "4       3 bedroom terraced duplex for sale   \n",
       "\n",
       "                                             address        bed        bath  \\\n",
       "0  Megamound Estate, Lekki County Homes., Ikota, ...  4Bedrooms  5Bathrooms   \n",
       "1              In A Well Secured Estate, Ajah, Lagos  4Bedrooms  4Bathrooms   \n",
       "2              In A Well Secured Estate, Ajah, Lagos  5Bedrooms  4Bathrooms   \n",
       "3  Ikola Road, By Command., Alagbado, Ifako-Ijaiy...  3Bedrooms        Save   \n",
       "4                         2nd Tollgate, Lekki, Lagos  3Bedrooms  3Bathrooms   \n",
       "\n",
       "     toilet        pkn_space       price  \n",
       "0  5Toilets             Save  75,000,000  \n",
       "1  5Toilets  2Parking Spaces  47,000,000  \n",
       "2  6Toilets  4Parking Spaces  80,000,000  \n",
       "3       NaN              NaN  27,500,000  \n",
       "4  4Toilets             Save  45,000,000  "
      ]
     },
     "execution_count": 3,
     "metadata": {},
     "output_type": "execute_result"
    }
   ],
   "source": [
    "data0 = pd.read_csv('data/house_data0.csv')\n",
    "data0.head()"
   ]
  },
  {
   "cell_type": "code",
   "execution_count": 4,
   "id": "af24204f-ac48-4577-a576-2cb9d514cdfe",
   "metadata": {},
   "outputs": [
    {
     "data": {
      "text/plain": [
       "(1050, 7)"
      ]
     },
     "execution_count": 4,
     "metadata": {},
     "output_type": "execute_result"
    }
   ],
   "source": [
    "data0.shape"
   ]
  },
  {
   "cell_type": "code",
   "execution_count": 2,
   "id": "b653e01c-eb81-44ee-9cf9-72c78f71226b",
   "metadata": {},
   "outputs": [
    {
     "data": {
      "text/plain": [
       "['house_data0.csv', 'house_data1.csv', 'house_data2.csv']"
      ]
     },
     "execution_count": 2,
     "metadata": {},
     "output_type": "execute_result"
    }
   ],
   "source": [
    "files = [file for file in os.listdir('data/')]\n",
    "\n",
    "files"
   ]
  },
  {
   "cell_type": "code",
   "execution_count": 7,
   "id": "484d5748-7ef7-4b18-a55a-7113012a9855",
   "metadata": {},
   "outputs": [
    {
     "name": "stdout",
     "output_type": "stream",
     "text": [
      "Before concatenatiion: (0, 0) \n",
      "\n",
      "After concatenatiion: (3500, 7) \n",
      "\n"
     ]
    }
   ],
   "source": [
    "all_df = pd.DataFrame()  # empty dataframe\n",
    "\n",
    "print(f\"Before concatenatiion: {all_df.shape} \\n\")\n",
    "\n",
    "for file in files:\n",
    "    df = pd.read_csv(f'data/{file}')\n",
    "    all_df = pd.concat([all_df, df], axis='index')\n",
    "    \n",
    "print(f\"After concatenatiion: {all_df.shape} \\n\")"
   ]
  },
  {
   "cell_type": "code",
   "execution_count": 8,
   "id": "c43ba0ac-3c8c-410e-9435-aeb414f8d448",
   "metadata": {},
   "outputs": [
    {
     "data": {
      "text/html": [
       "<div>\n",
       "<style scoped>\n",
       "    .dataframe tbody tr th:only-of-type {\n",
       "        vertical-align: middle;\n",
       "    }\n",
       "\n",
       "    .dataframe tbody tr th {\n",
       "        vertical-align: top;\n",
       "    }\n",
       "\n",
       "    .dataframe thead th {\n",
       "        text-align: right;\n",
       "    }\n",
       "</style>\n",
       "<table border=\"1\" class=\"dataframe\">\n",
       "  <thead>\n",
       "    <tr style=\"text-align: right;\">\n",
       "      <th></th>\n",
       "      <th>title</th>\n",
       "      <th>address</th>\n",
       "      <th>bed</th>\n",
       "      <th>bath</th>\n",
       "      <th>toilet</th>\n",
       "      <th>pkn_space</th>\n",
       "      <th>price</th>\n",
       "    </tr>\n",
       "  </thead>\n",
       "  <tbody>\n",
       "    <tr>\n",
       "      <th>0</th>\n",
       "      <td>4 bedroom detached duplex for sale</td>\n",
       "      <td>Megamound Estate, Lekki County Homes., Ikota, ...</td>\n",
       "      <td>4Bedrooms</td>\n",
       "      <td>5Bathrooms</td>\n",
       "      <td>5Toilets</td>\n",
       "      <td>Save</td>\n",
       "      <td>75,000,000</td>\n",
       "    </tr>\n",
       "    <tr>\n",
       "      <th>1</th>\n",
       "      <td>4 bedroom semi-detached duplex for sale</td>\n",
       "      <td>In A Well Secured Estate, Ajah, Lagos</td>\n",
       "      <td>4Bedrooms</td>\n",
       "      <td>4Bathrooms</td>\n",
       "      <td>5Toilets</td>\n",
       "      <td>2Parking Spaces</td>\n",
       "      <td>47,000,000</td>\n",
       "    </tr>\n",
       "    <tr>\n",
       "      <th>2</th>\n",
       "      <td>5 bedroom semi-detached duplex for sale</td>\n",
       "      <td>In A Well Secured Estate, Ajah, Lagos</td>\n",
       "      <td>5Bedrooms</td>\n",
       "      <td>4Bathrooms</td>\n",
       "      <td>6Toilets</td>\n",
       "      <td>4Parking Spaces</td>\n",
       "      <td>80,000,000</td>\n",
       "    </tr>\n",
       "    <tr>\n",
       "      <th>3</th>\n",
       "      <td>3 bedroom detached duplex for sale</td>\n",
       "      <td>Ikola Road, By Command., Alagbado, Ifako-Ijaiy...</td>\n",
       "      <td>3Bedrooms</td>\n",
       "      <td>Save</td>\n",
       "      <td>NaN</td>\n",
       "      <td>NaN</td>\n",
       "      <td>27,500,000</td>\n",
       "    </tr>\n",
       "    <tr>\n",
       "      <th>4</th>\n",
       "      <td>3 bedroom terraced duplex for sale</td>\n",
       "      <td>2nd Tollgate, Lekki, Lagos</td>\n",
       "      <td>3Bedrooms</td>\n",
       "      <td>3Bathrooms</td>\n",
       "      <td>4Toilets</td>\n",
       "      <td>Save</td>\n",
       "      <td>45,000,000</td>\n",
       "    </tr>\n",
       "  </tbody>\n",
       "</table>\n",
       "</div>"
      ],
      "text/plain": [
       "                                     title  \\\n",
       "0       4 bedroom detached duplex for sale   \n",
       "1  4 bedroom semi-detached duplex for sale   \n",
       "2  5 bedroom semi-detached duplex for sale   \n",
       "3       3 bedroom detached duplex for sale   \n",
       "4       3 bedroom terraced duplex for sale   \n",
       "\n",
       "                                             address        bed        bath  \\\n",
       "0  Megamound Estate, Lekki County Homes., Ikota, ...  4Bedrooms  5Bathrooms   \n",
       "1              In A Well Secured Estate, Ajah, Lagos  4Bedrooms  4Bathrooms   \n",
       "2              In A Well Secured Estate, Ajah, Lagos  5Bedrooms  4Bathrooms   \n",
       "3  Ikola Road, By Command., Alagbado, Ifako-Ijaiy...  3Bedrooms        Save   \n",
       "4                         2nd Tollgate, Lekki, Lagos  3Bedrooms  3Bathrooms   \n",
       "\n",
       "     toilet        pkn_space       price  \n",
       "0  5Toilets             Save  75,000,000  \n",
       "1  5Toilets  2Parking Spaces  47,000,000  \n",
       "2  6Toilets  4Parking Spaces  80,000,000  \n",
       "3       NaN              NaN  27,500,000  \n",
       "4  4Toilets             Save  45,000,000  "
      ]
     },
     "execution_count": 8,
     "metadata": {},
     "output_type": "execute_result"
    }
   ],
   "source": [
    "all_df.head()"
   ]
  },
  {
   "cell_type": "code",
   "execution_count": null,
   "id": "5626d13d-3388-459d-949e-88a442f5fd77",
   "metadata": {},
   "outputs": [],
   "source": []
  },
  {
   "cell_type": "code",
   "execution_count": null,
   "id": "4461dd25-b9ea-46cb-a942-79861d4864cc",
   "metadata": {},
   "outputs": [],
   "source": []
  },
  {
   "cell_type": "code",
   "execution_count": null,
   "id": "d6c6c094-fd0e-4e9f-84a4-e64582dd0a72",
   "metadata": {},
   "outputs": [],
   "source": []
  },
  {
   "cell_type": "code",
   "execution_count": null,
   "id": "6109faf4-1d1b-4e9f-9131-565f9dd2b23e",
   "metadata": {},
   "outputs": [],
   "source": []
  },
  {
   "cell_type": "code",
   "execution_count": null,
   "id": "8b54dab5-de74-48d0-a7d4-56ca50914fda",
   "metadata": {},
   "outputs": [],
   "source": []
  },
  {
   "cell_type": "code",
   "execution_count": null,
   "id": "884f09fc-f72c-4c3c-903c-1175c4637c8d",
   "metadata": {},
   "outputs": [],
   "source": []
  },
  {
   "cell_type": "code",
   "execution_count": null,
   "id": "eb317f37-8ff3-473b-8bdd-543cdec208f1",
   "metadata": {},
   "outputs": [],
   "source": []
  },
  {
   "cell_type": "code",
   "execution_count": null,
   "id": "86356fb8-9e5e-421b-ad7e-463b54194dbd",
   "metadata": {},
   "outputs": [],
   "source": []
  },
  {
   "cell_type": "code",
   "execution_count": null,
   "id": "c861b4a7-c696-498e-939a-595f6a3ce702",
   "metadata": {},
   "outputs": [],
   "source": []
  },
  {
   "cell_type": "code",
   "execution_count": null,
   "id": "5d5c99eb-409c-4c2e-9bf3-e9b7ec33942b",
   "metadata": {},
   "outputs": [],
   "source": []
  },
  {
   "cell_type": "code",
   "execution_count": null,
   "id": "08c51cce-e801-40b3-89c1-e3b5da4746df",
   "metadata": {},
   "outputs": [],
   "source": []
  },
  {
   "cell_type": "code",
   "execution_count": null,
   "id": "09d2e8a4-9a27-40c8-ac4d-ee3658236db1",
   "metadata": {},
   "outputs": [],
   "source": []
  },
  {
   "cell_type": "code",
   "execution_count": null,
   "id": "78f2ae14-4747-49d4-8f8c-9ef1d4679876",
   "metadata": {},
   "outputs": [],
   "source": []
  },
  {
   "cell_type": "code",
   "execution_count": null,
   "id": "51ea6430-f450-47cb-b07c-fe85f986da47",
   "metadata": {},
   "outputs": [],
   "source": []
  },
  {
   "cell_type": "code",
   "execution_count": null,
   "id": "e5b5702d-c040-4bdb-a5cd-17960814ca50",
   "metadata": {},
   "outputs": [],
   "source": []
  }
 ],
 "metadata": {
  "kernelspec": {
   "display_name": "ds",
   "language": "python",
   "name": "ds"
  },
  "language_info": {
   "codemirror_mode": {
    "name": "ipython",
    "version": 3
   },
   "file_extension": ".py",
   "mimetype": "text/x-python",
   "name": "python",
   "nbconvert_exporter": "python",
   "pygments_lexer": "ipython3",
   "version": "3.8.5"
  }
 },
 "nbformat": 4,
 "nbformat_minor": 5
}
